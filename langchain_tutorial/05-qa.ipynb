{
 "cells": [
  {
   "cell_type": "code",
   "execution_count": 1,
   "id": "51862096-a051-479a-8265-1091e3c7f8e0",
   "metadata": {
    "tags": []
   },
   "outputs": [
    {
     "name": "stdout",
     "output_type": "stream",
     "text": [
      "Defaulting to user installation because normal site-packages is not writeable\n",
      "Requirement already satisfied: langchain in /home/pj/.local/lib/python3.10/site-packages (0.0.188)\n",
      "Collecting langchain\n",
      "  Downloading langchain-0.0.189-py3-none-any.whl (975 kB)\n",
      "\u001b[2K     \u001b[38;2;114;156;31m━━━━━━━━━━━━━━━━━━━━━━━━━━━━━━━━━━━━━━━\u001b[0m \u001b[32m975.6/975.6 KB\u001b[0m \u001b[31m8.3 MB/s\u001b[0m eta \u001b[36m0:00:00\u001b[0m[31m7.1 MB/s\u001b[0m eta \u001b[36m0:00:01\u001b[0m\n",
      "\u001b[?25hRequirement already satisfied: numpy<2,>=1 in /home/pj/.local/lib/python3.10/site-packages (from langchain) (1.24.3)\n",
      "Requirement already satisfied: SQLAlchemy<3,>=1.4 in /home/pj/.local/lib/python3.10/site-packages (from langchain) (2.0.15)\n",
      "Requirement already satisfied: numexpr<3.0.0,>=2.8.4 in /home/pj/.local/lib/python3.10/site-packages (from langchain) (2.8.4)\n",
      "Requirement already satisfied: pydantic<2,>=1 in /home/pj/.local/lib/python3.10/site-packages (from langchain) (1.10.8)\n",
      "Requirement already satisfied: PyYAML>=5.4.1 in /usr/lib/python3/dist-packages (from langchain) (5.4.1)\n",
      "Requirement already satisfied: tenacity<9.0.0,>=8.1.0 in /home/pj/.local/lib/python3.10/site-packages (from langchain) (8.2.2)\n",
      "Requirement already satisfied: aiohttp<4.0.0,>=3.8.3 in /home/pj/.local/lib/python3.10/site-packages (from langchain) (3.8.4)\n",
      "Requirement already satisfied: requests<3,>=2 in /home/pj/.local/lib/python3.10/site-packages (from langchain) (2.29.0)\n",
      "Requirement already satisfied: async-timeout<5.0.0,>=4.0.0 in /home/pj/.local/lib/python3.10/site-packages (from langchain) (4.0.2)\n",
      "Requirement already satisfied: dataclasses-json<0.6.0,>=0.5.7 in /home/pj/.local/lib/python3.10/site-packages (from langchain) (0.5.7)\n",
      "Requirement already satisfied: openapi-schema-pydantic<2.0,>=1.2 in /home/pj/.local/lib/python3.10/site-packages (from langchain) (1.2.4)\n",
      "Requirement already satisfied: attrs>=17.3.0 in /usr/lib/python3/dist-packages (from aiohttp<4.0.0,>=3.8.3->langchain) (21.2.0)\n",
      "Requirement already satisfied: yarl<2.0,>=1.0 in /home/pj/.local/lib/python3.10/site-packages (from aiohttp<4.0.0,>=3.8.3->langchain) (1.9.2)\n",
      "Requirement already satisfied: frozenlist>=1.1.1 in /home/pj/.local/lib/python3.10/site-packages (from aiohttp<4.0.0,>=3.8.3->langchain) (1.3.3)\n",
      "Requirement already satisfied: aiosignal>=1.1.2 in /home/pj/.local/lib/python3.10/site-packages (from aiohttp<4.0.0,>=3.8.3->langchain) (1.3.1)\n",
      "Requirement already satisfied: charset-normalizer<4.0,>=2.0 in /home/pj/.local/lib/python3.10/site-packages (from aiohttp<4.0.0,>=3.8.3->langchain) (3.1.0)\n",
      "Requirement already satisfied: multidict<7.0,>=4.5 in /home/pj/.local/lib/python3.10/site-packages (from aiohttp<4.0.0,>=3.8.3->langchain) (6.0.4)\n",
      "Requirement already satisfied: typing-inspect>=0.4.0 in /home/pj/.local/lib/python3.10/site-packages (from dataclasses-json<0.6.0,>=0.5.7->langchain) (0.9.0)\n",
      "Requirement already satisfied: marshmallow<4.0.0,>=3.3.0 in /home/pj/.local/lib/python3.10/site-packages (from dataclasses-json<0.6.0,>=0.5.7->langchain) (3.19.0)\n",
      "Requirement already satisfied: marshmallow-enum<2.0.0,>=1.5.1 in /home/pj/.local/lib/python3.10/site-packages (from dataclasses-json<0.6.0,>=0.5.7->langchain) (1.5.1)\n",
      "Requirement already satisfied: typing-extensions>=4.2.0 in /home/pj/.local/lib/python3.10/site-packages (from pydantic<2,>=1->langchain) (4.5.0)\n",
      "Requirement already satisfied: urllib3<1.27,>=1.21.1 in /usr/lib/python3/dist-packages (from requests<3,>=2->langchain) (1.26.5)\n",
      "Requirement already satisfied: idna<4,>=2.5 in /usr/lib/python3/dist-packages (from requests<3,>=2->langchain) (3.3)\n",
      "Requirement already satisfied: certifi>=2017.4.17 in /usr/lib/python3/dist-packages (from requests<3,>=2->langchain) (2020.6.20)\n",
      "Requirement already satisfied: greenlet!=0.4.17 in /home/pj/.local/lib/python3.10/site-packages (from SQLAlchemy<3,>=1.4->langchain) (2.0.2)\n",
      "Requirement already satisfied: packaging>=17.0 in /home/pj/.local/lib/python3.10/site-packages (from marshmallow<4.0.0,>=3.3.0->dataclasses-json<0.6.0,>=0.5.7->langchain) (23.1)\n",
      "Requirement already satisfied: mypy-extensions>=0.3.0 in /home/pj/.local/lib/python3.10/site-packages (from typing-inspect>=0.4.0->dataclasses-json<0.6.0,>=0.5.7->langchain) (1.0.0)\n",
      "Installing collected packages: langchain\n",
      "  Attempting uninstall: langchain\n",
      "    Found existing installation: langchain 0.0.188\n",
      "    Uninstalling langchain-0.0.188:\n",
      "      Successfully uninstalled langchain-0.0.188\n",
      "Successfully installed langchain-0.0.189\n"
     ]
    }
   ],
   "source": [
    "# !pip install --upgrade langchain"
   ]
  },
  {
   "cell_type": "code",
   "execution_count": 2,
   "id": "5a284c31-ca4b-419e-8950-c7fd4d27eef0",
   "metadata": {
    "tags": []
   },
   "outputs": [],
   "source": [
    "%run ./01-basic.ipynb"
   ]
  },
  {
   "cell_type": "code",
   "execution_count": 3,
   "id": "41e12517-913e-43a7-af35-f1a4ead72908",
   "metadata": {
    "tags": []
   },
   "outputs": [],
   "source": [
    "from langchain.chains import RetrievalQA\n",
    "from langchain.chat_models import ChatOpenAI\n",
    "from langchain.document_loaders import CSVLoader\n",
    "from langchain.vectorstores import DocArrayInMemorySearch\n",
    "from IPython.display import display, Markdown"
   ]
  },
  {
   "cell_type": "code",
   "execution_count": 4,
   "id": "57342a93-d11f-4695-a658-b7f0dfffdb47",
   "metadata": {
    "tags": []
   },
   "outputs": [],
   "source": [
    "# DocArrayInMemorySearch -- search is done in memory."
   ]
  },
  {
   "cell_type": "code",
   "execution_count": 5,
   "id": "45473de0-d54d-49ee-bc05-bae5cd9fa8e5",
   "metadata": {
    "tags": []
   },
   "outputs": [],
   "source": [
    "file = 'OutdoorClothingCatalog_1000.csv'\n",
    "loader = CSVLoader(file_path=file)"
   ]
  },
  {
   "cell_type": "code",
   "execution_count": 6,
   "id": "39f660e5-67f5-459e-9f13-6c3297b253a2",
   "metadata": {
    "tags": []
   },
   "outputs": [],
   "source": [
    "from langchain.indexes import VectorstoreIndexCreator"
   ]
  },
  {
   "cell_type": "code",
   "execution_count": 8,
   "id": "4710ccd2-25fd-4abd-a793-84356eecac01",
   "metadata": {
    "tags": []
   },
   "outputs": [],
   "source": [
    "# !pip install docarray"
   ]
  },
  {
   "cell_type": "code",
   "execution_count": 9,
   "id": "e2cde965-7a9d-4386-8a8b-bfc18a9f1e69",
   "metadata": {
    "tags": []
   },
   "outputs": [],
   "source": [
    "index = VectorstoreIndexCreator(\n",
    "    vectorstore_cls=DocArrayInMemorySearch\n",
    ").from_loaders([loader])"
   ]
  },
  {
   "cell_type": "code",
   "execution_count": 10,
   "id": "34ba7b05-0eb8-4825-ba69-12630d7a4a0f",
   "metadata": {
    "tags": []
   },
   "outputs": [],
   "source": [
    "query =\"Please list all your shirts with sun protection \\\n",
    "in a table in markdown and summarize each one.\""
   ]
  },
  {
   "cell_type": "code",
   "execution_count": 14,
   "id": "64531bb2-f2d7-496a-bed9-15d73d112063",
   "metadata": {
    "tags": []
   },
   "outputs": [],
   "source": [
    "response = index.query(query)"
   ]
  },
  {
   "cell_type": "markdown",
   "id": "26e12e82-7c2b-4a81-88fc-0fd43b82e1ba",
   "metadata": {},
   "source": [
    "# Note\n",
    "Language models can handle only short documents, small number of tokens.\n",
    "Embeddings: a numberical representation of the piece of text, that refers to the semantics/meanings.\n",
    "LLM can create an embedding for any document or query. \n",
    "\n",
    "An embedding is created for each chunk of the document as you cannot pass the whole document to the LLM.\n",
    "The index consists of the embeddings of all the chunks. \n"
   ]
  },
  {
   "cell_type": "code",
   "execution_count": 12,
   "id": "49f1c345-656d-48b4-8a25-e6c19486fda9",
   "metadata": {
    "tags": []
   },
   "outputs": [
    {
     "data": {
      "text/markdown": [
       "\n",
       "\n",
       "| Name | Description |\n",
       "| --- | --- |\n",
       "| Men's Tropical Plaid Short-Sleeve Shirt | UPF 50+ rated, 100% polyester, wrinkle-resistant, front and back cape venting, two front bellows pockets |\n",
       "| Men's Plaid Tropic Shirt, Short-Sleeve | UPF 50+ rated, 52% polyester and 48% nylon, machine washable and dryable, front and back cape venting, two front bellows pockets |\n",
       "| Men's TropicVibe Shirt, Short-Sleeve | UPF 50+ rated, 71% Nylon, 29% Polyester, 100% Polyester knit mesh, machine wash and dry, front and back cape venting, two front bellows pockets |\n",
       "| Sun Shield Shirt by | UPF 50+ rated, 78% nylon, 22% Lycra Xtra Life fiber, handwash, line dry, wicks moisture, fits comfortably over swimsuit, abrasion resistant |\n",
       "\n",
       "All four shirts provide UPF 50+ sun protection, blocking 98% of the sun's harmful rays. The Men's Tropical Plaid Short-Sleeve Shirt is made of 100% polyester and is wrinkle-resistant"
      ],
      "text/plain": [
       "<IPython.core.display.Markdown object>"
      ]
     },
     "metadata": {},
     "output_type": "display_data"
    }
   ],
   "source": [
    "display(Markdown(response))"
   ]
  },
  {
   "cell_type": "code",
   "execution_count": 15,
   "id": "e9edea5c-517e-4954-ad6f-327d8be80c38",
   "metadata": {
    "tags": []
   },
   "outputs": [],
   "source": [
    "loader = CSVLoader(file_path=file)"
   ]
  },
  {
   "cell_type": "code",
   "execution_count": 16,
   "id": "980e5c16-4da8-402e-93ba-3a34f0c3350c",
   "metadata": {
    "tags": []
   },
   "outputs": [],
   "source": [
    "docs = loader.load()"
   ]
  },
  {
   "cell_type": "code",
   "execution_count": 17,
   "id": "39e89a73-6dbf-4eb3-8a17-16d99ffe48bc",
   "metadata": {
    "tags": []
   },
   "outputs": [
    {
     "data": {
      "text/plain": [
       "Document(page_content=\": 0\\nname: Women's Campside Oxfords\\ndescription: This ultracomfortable lace-to-toe Oxford boasts a super-soft canvas, thick cushioning, and quality construction for a broken-in feel from the first time you put them on. \\n\\nSize & Fit: Order regular shoe size. For half sizes not offered, order up to next whole size. \\n\\nSpecs: Approx. weight: 1 lb.1 oz. per pair. \\n\\nConstruction: Soft canvas material for a broken-in feel and look. Comfortable EVA innersole with Cleansport NXT® antimicrobial odor control. Vintage hunt, fish and camping motif on innersole. Moderate arch contour of innersole. EVA foam midsole for cushioning and support. Chain-tread-inspired molded rubber outsole with modified chain-tread pattern. Imported. \\n\\nQuestions? Please contact us for any inquiries.\", metadata={'source': 'OutdoorClothingCatalog_1000.csv', 'row': 0})"
      ]
     },
     "execution_count": 17,
     "metadata": {},
     "output_type": "execute_result"
    }
   ],
   "source": [
    "docs[0]\n"
   ]
  },
  {
   "cell_type": "code",
   "execution_count": 18,
   "id": "21330374-2211-44d8-942c-436d83b52223",
   "metadata": {
    "tags": []
   },
   "outputs": [],
   "source": [
    "from langchain.embeddings import OpenAIEmbeddings\n",
    "embeddings = OpenAIEmbeddings()"
   ]
  },
  {
   "cell_type": "code",
   "execution_count": 19,
   "id": "7530e320-efe5-47a0-8604-ba18de38569f",
   "metadata": {
    "tags": []
   },
   "outputs": [],
   "source": [
    "# As an example, try embedding a query using the 'embeddings' object\n",
    "embed = embeddings.embed_query(\"Hi my name is Harrison\")"
   ]
  },
  {
   "cell_type": "code",
   "execution_count": 21,
   "id": "fe8d1d23-7e02-4a24-a180-4ca06f25ad55",
   "metadata": {
    "tags": []
   },
   "outputs": [
    {
     "name": "stdout",
     "output_type": "stream",
     "text": [
      "1536\n"
     ]
    }
   ],
   "source": [
    "print(len(embed))"
   ]
  },
  {
   "cell_type": "code",
   "execution_count": 22,
   "id": "5cac74fb-e1cd-4cfc-8707-7c76c1efe152",
   "metadata": {
    "tags": []
   },
   "outputs": [
    {
     "name": "stdout",
     "output_type": "stream",
     "text": [
      "[-0.021900920197367668, 0.006746490020304918, -0.018175246194005013, -0.039119575172662735, -0.014097143895924091, 0.016891399398446083, 0.002292359247803688, -0.008175084367394447, 0.012901403941214085, 9.587552631273866e-05]\n"
     ]
    }
   ],
   "source": [
    "print(embed[:10])"
   ]
  },
  {
   "cell_type": "code",
   "execution_count": 23,
   "id": "f4f10ae7-54d3-4d06-aae8-0555e13c0198",
   "metadata": {
    "tags": []
   },
   "outputs": [],
   "source": [
    "db = DocArrayInMemorySearch.from_documents(\n",
    "    docs, \n",
    "    embeddings\n",
    ")"
   ]
  },
  {
   "cell_type": "code",
   "execution_count": 24,
   "id": "0604a87e-4a32-4f38-8b5b-f789cdbd8d98",
   "metadata": {
    "tags": []
   },
   "outputs": [
    {
     "data": {
      "text/plain": [
       "'\\ndb is now the entire vector store that takes the document chunks, and then the embeddings from the LLM\\n'"
      ]
     },
     "execution_count": 24,
     "metadata": {},
     "output_type": "execute_result"
    }
   ],
   "source": [
    "\"\"\"\n",
    "db is now the entire vector store that takes a lsit of documents, and then the embeddings from the LLM\n",
    "\"\"\""
   ]
  },
  {
   "cell_type": "code",
   "execution_count": 25,
   "id": "30142bf4-0c87-465d-82aa-5cbd75ae6746",
   "metadata": {
    "tags": []
   },
   "outputs": [],
   "source": [
    "query = \"Please suggest a shirt with sunblocking\""
   ]
  },
  {
   "cell_type": "code",
   "execution_count": 26,
   "id": "461d5994-2c10-4aad-89d4-5d6b9cc7302b",
   "metadata": {
    "tags": []
   },
   "outputs": [],
   "source": [
    "docs = db.similarity_search(query)"
   ]
  },
  {
   "cell_type": "markdown",
   "id": "6ae21018-a078-444a-a88e-2b0a14b1f38e",
   "metadata": {},
   "source": [
    "# Note\n",
    "similarity_search - cosine similarity,  \n",
    "\n",
    "Cosine similarity is a metric used to measure the similarity between two vectors in a multi-dimensional space. It determines the cosine of the angle between the vectors, hence the name \"cosine similarity.\"\n",
    "\n",
    "To calculate the cosine similarity between two vectors A and B, the formula is:\n",
    "\n",
    "cosine_similarity(A, B) = (A . B) / (||A|| * ||B||)\n",
    "\n",
    "Here, (A . B) represents the dot product of vectors A and B, and ||A|| and ||B|| represent the Euclidean norms (also known as the lengths or magnitudes) of vectors A and B, respectively.\n",
    "\n",
    "The resulting value of cosine similarity ranges from -1 to 1. A value of 1 indicates that the vectors are in the same direction, meaning they are identical. A value of -1 indicates that the vectors are in opposite directions, and a value of 0 indicates that the vectors are orthogonal or completely dissimilar.\n",
    "\n",
    "Cosine similarity is commonly used in various fields, including information retrieval, natural language processing, and recommendation systems, where it helps to measure the similarity or distance between textual documents or high-dimensional feature vectors.\n",
    "\n"
   ]
  },
  {
   "cell_type": "markdown",
   "id": "c0e3471a-8cd2-49a3-aa7d-19552953fcf3",
   "metadata": {},
   "source": [
    "# Note\n",
    "docs is small enough and we don't need to chunk it. \n",
    "similarity_search - through all the vectors.. \n",
    "Each element of the docs array is one product. "
   ]
  },
  {
   "cell_type": "code",
   "execution_count": 29,
   "id": "90cf2671-9e95-4a2e-b415-a79bc150cb4e",
   "metadata": {
    "tags": []
   },
   "outputs": [
    {
     "data": {
      "text/plain": [
       "Document(page_content=': 255\\nname: Sun Shield Shirt by\\ndescription: \"Block the sun, not the fun – our high-performance sun shirt is guaranteed to protect from harmful UV rays. \\n\\nSize & Fit: Slightly Fitted: Softly shapes the body. Falls at hip.\\n\\nFabric & Care: 78% nylon, 22% Lycra Xtra Life fiber. UPF 50+ rated – the highest rated sun protection possible. Handwash, line dry.\\n\\nAdditional Features: Wicks moisture for quick-drying comfort. Fits comfortably over your favorite swimsuit. Abrasion resistant for season after season of wear. Imported.\\n\\nSun Protection That Won\\'t Wear Off\\nOur high-performance fabric provides SPF 50+ sun protection, blocking 98% of the sun\\'s harmful rays. This fabric is recommended by The Skin Cancer Foundation as an effective UV protectant.', metadata={'source': 'OutdoorClothingCatalog_1000.csv', 'row': 255})"
      ]
     },
     "execution_count": 29,
     "metadata": {},
     "output_type": "execute_result"
    }
   ],
   "source": [
    "docs[0]"
   ]
  },
  {
   "cell_type": "code",
   "execution_count": 30,
   "id": "af557157-3e67-459f-aa8f-82e88c792f6c",
   "metadata": {
    "tags": []
   },
   "outputs": [
    {
     "data": {
      "text/plain": [
       "4"
      ]
     },
     "execution_count": 30,
     "metadata": {},
     "output_type": "execute_result"
    }
   ],
   "source": [
    "len(docs)"
   ]
  },
  {
   "cell_type": "code",
   "execution_count": 31,
   "id": "a2498867-c4e0-4bfc-b2f3-2c4117576126",
   "metadata": {
    "tags": []
   },
   "outputs": [],
   "source": [
    "retriever = db.as_retriever()"
   ]
  },
  {
   "cell_type": "code",
   "execution_count": 32,
   "id": "43ad7777-ef6b-47ac-bc83-adcc39ca43f9",
   "metadata": {
    "tags": []
   },
   "outputs": [],
   "source": [
    "# Retriever is an interface, and can be implemented by any LLM call."
   ]
  },
  {
   "cell_type": "code",
   "execution_count": 33,
   "id": "3c597131-4ac3-4b5a-ac8c-6cee1dc05517",
   "metadata": {
    "tags": []
   },
   "outputs": [],
   "source": [
    "llm = ChatOpenAI(temperature = 0.0)\n"
   ]
  },
  {
   "cell_type": "code",
   "execution_count": 34,
   "id": "eff40c85-c546-4ca9-a704-3727c7dba1dc",
   "metadata": {
    "tags": []
   },
   "outputs": [],
   "source": [
    "qdocs = \"\".join([docs[i].page_content for i in range(len(docs))])\n"
   ]
  },
  {
   "cell_type": "code",
   "execution_count": 46,
   "id": "500b524a-ceb2-4d2d-92f5-be995f7ca938",
   "metadata": {
    "tags": []
   },
   "outputs": [
    {
     "data": {
      "text/plain": [
       "': 255\\nname: Sun Shield Shirt by\\ndescription: \"Block the sun, not the fun – our high-performance sun shirt is guaranteed to protect from harmful UV rays. \\n\\nSize & Fit: Slightly Fitted: Softly shapes the body. Falls at hip.\\n\\nFabric & Care: 78% nylon, 22% Lycra Xtra Life fiber. UPF 50+ rated – the highest rated sun protection possible. Handwash, line dry.\\n\\nAdditional Features: Wicks moisture for quick-drying comfort. Fits comfortably over your favorite swimsuit. Abrasion resistant for season after season of wear. Imported.\\n\\nSun Protection That Won\\'t Wear Off\\nOur high-performance fabric provides SPF 50+ sun protection, blocking 98% of the sun\\'s harmful rays. This fabric is recommended by The Skin Cancer Foundation as an effective UV protectant.: 374\\nname: Men\\'s Plaid Tropic Shirt, Short-Sleeve\\ndescription: Our Ultracomfortable sun protection is rated to UPF 50+, helping you stay cool and dry. Originally designed for fishing, this lightest hot-weather shirt offers UPF 50+ coverage and is great for extended travel. SunSmart technology blocks 98% of the sun\\'s harmful UV rays, while the high-performance fabric is wrinkle-free and quickly evaporates perspiration. Made with 52% polyester and 48% nylon, this shirt is machine washable and dryable. Additional features include front and back cape venting, two front bellows pockets and an imported design. With UPF 50+ coverage, you can limit sun exposure and feel secure with the highest rated sun protection available.: 535\\nname: Men\\'s TropicVibe Shirt, Short-Sleeve\\ndescription: This Men’s sun-protection shirt with built-in UPF 50+ has the lightweight feel you want and the coverage you need when the air is hot and the UV rays are strong. Size & Fit: Traditional Fit: Relaxed through the chest, sleeve and waist. Fabric & Care: Shell: 71% Nylon, 29% Polyester. Lining: 100% Polyester knit mesh. UPF 50+ rated – the highest rated sun protection possible. Machine wash and dry. Additional Features: Wrinkle resistant. Front and back cape venting lets in cool breezes. Two front bellows pockets. Imported.\\n\\nSun Protection That Won\\'t Wear Off: Our high-performance fabric provides SPF 50+ sun protection, blocking 98% of the sun\\'s harmful rays.: 618\\nname: Men\\'s Tropical Plaid Short-Sleeve Shirt\\ndescription: Our lightest hot-weather shirt is rated UPF 50+ for superior protection from the sun\\'s UV rays. With a traditional fit that is relaxed through the chest, sleeve, and waist, this fabric is made of 100% polyester and is wrinkle-resistant. With front and back cape venting that lets in cool breezes and two front bellows pockets, this shirt is imported and provides the highest rated sun protection possible. \\n\\nSun Protection That Won\\'t Wear Off. Our high-performance fabric provides SPF 50+ sun protection, blocking 98% of the sun\\'s harmful rays.'"
      ]
     },
     "execution_count": 46,
     "metadata": {},
     "output_type": "execute_result"
    }
   ],
   "source": [
    "qdocs"
   ]
  },
  {
   "cell_type": "code",
   "execution_count": 35,
   "id": "88abf232-7265-49d5-a116-8139dec7cb1b",
   "metadata": {
    "tags": []
   },
   "outputs": [],
   "source": [
    "response = llm.call_as_llm(f\"{qdocs} Question: Please list all your \\\n",
    "shirts with sun protection in a table in markdown and summarize each one.\") \n"
   ]
  },
  {
   "cell_type": "code",
   "execution_count": 36,
   "id": "783c796d-b600-4150-b63a-21641bad07ae",
   "metadata": {
    "tags": []
   },
   "outputs": [
    {
     "data": {
      "text/markdown": [
       "| Name | Description |\n",
       "| --- | --- |\n",
       "| Sun Shield Shirt | High-performance sun shirt with UPF 50+ sun protection, moisture-wicking, and abrasion-resistant fabric. Fits comfortably over swimsuits. Recommended by The Skin Cancer Foundation. |\n",
       "| Men's Plaid Tropic Shirt | Ultracomfortable shirt with UPF 50+ sun protection, wrinkle-free fabric, and front/back cape venting. Made with 52% polyester and 48% nylon. |\n",
       "| Men's TropicVibe Shirt | Men's sun-protection shirt with built-in UPF 50+ and front/back cape venting. Wrinkle-resistant and made with 71% nylon and 29% polyester. |\n",
       "| Men's Tropical Plaid Short-Sleeve Shirt | Lightest hot-weather shirt with UPF 50+ sun protection, front/back cape venting, and two front bellows pockets. Made with 100% polyester and wrinkle-resistant. |\n",
       "\n",
       "All of these shirts provide UPF 50+ sun protection, blocking 98% of the sun's harmful rays. They are made with high-performance fabrics that are moisture-wicking, wrinkle-resistant, and abrasion-resistant. The Men's Plaid Tropic Shirt and Men's Tropical Plaid Short-Sleeve Shirt have front/back cape venting for added breathability. The Sun Shield Shirt is recommended by The Skin Cancer Foundation."
      ],
      "text/plain": [
       "<IPython.core.display.Markdown object>"
      ]
     },
     "metadata": {},
     "output_type": "display_data"
    }
   ],
   "source": [
    "display(Markdown(response))"
   ]
  },
  {
   "cell_type": "markdown",
   "id": "8f9995ac-32c8-49a4-b2f3-e9620fd52245",
   "metadata": {},
   "source": [
    "# Note\n",
    "The above steps of finding similar documents, creating the qdocs context, and then callingthe llm can be simplified with the retrievers as shown below. \n",
    "'retriever' includes the entire vector store, and will create the embedding for the query, find similar documents, create the context. 'run' method\n",
    "then passes the query with the context.  Somewhat simplified \n"
   ]
  },
  {
   "cell_type": "code",
   "execution_count": 37,
   "id": "a73fe2d8-573c-418b-bb69-7f8d8a1b1f7c",
   "metadata": {
    "tags": []
   },
   "outputs": [],
   "source": [
    "qa_stuff = RetrievalQA.from_chain_type(\n",
    "    llm=llm, \n",
    "    chain_type=\"stuff\", \n",
    "    retriever=retriever, \n",
    "    verbose=True\n",
    ")"
   ]
  },
  {
   "cell_type": "code",
   "execution_count": 38,
   "id": "124b4785-3dfe-406f-9745-f2c29b844bd4",
   "metadata": {
    "tags": []
   },
   "outputs": [],
   "source": [
    "query =  \"Please list all your shirts with sun protection in a table \\\n",
    "in markdown and summarize each one.\""
   ]
  },
  {
   "cell_type": "code",
   "execution_count": 39,
   "id": "7cfd5f73-de39-4316-9c9a-1c477e37a0d6",
   "metadata": {
    "tags": []
   },
   "outputs": [
    {
     "name": "stdout",
     "output_type": "stream",
     "text": [
      "\n",
      "\n",
      "\u001b[1m> Entering new RetrievalQA chain...\u001b[0m\n",
      "\n",
      "\u001b[1m> Finished chain.\u001b[0m\n"
     ]
    }
   ],
   "source": [
    "response = qa_stuff.run(query)"
   ]
  },
  {
   "cell_type": "code",
   "execution_count": 42,
   "id": "8db3f38b-e505-411a-b5ad-6a2160319b69",
   "metadata": {
    "tags": []
   },
   "outputs": [
    {
     "data": {
      "text/markdown": [
       "| Shirt ID | Name | Description |\n",
       "| --- | --- | --- |\n",
       "| 618 | Men's Tropical Plaid Short-Sleeve Shirt | Rated UPF 50+ for superior protection from the sun's UV rays. Made of 100% polyester and is wrinkle-resistant. With front and back cape venting that lets in cool breezes and two front bellows pockets. |\n",
       "| 374 | Men's Plaid Tropic Shirt, Short-Sleeve | Rated to UPF 50+ and offers sun protection. Made with 52% polyester and 48% nylon, this shirt is machine washable and dryable. Additional features include front and back cape venting, two front bellows pockets. |\n",
       "| 535 | Men's TropicVibe Shirt, Short-Sleeve | Built-in UPF 50+ sun-protection shirt with the lightweight feel. Made with 71% Nylon, 29% Polyester. Wrinkle-resistant with front and back cape venting that lets in cool breezes and two front bellows pockets. |\n",
       "| 255 | Sun Shield Shirt | High-performance sun shirt that protects from harmful UV rays. Made with 78% nylon, 22% Lycra Xtra Life fiber. Wicks moisture for quick-drying comfort and fits comfortably over your favorite swimsuit. |\n",
       "\n",
       "All of the shirts listed above provide sun protection with a UPF rating of 50+ and block 98% of the sun's harmful rays. They are all designed to be lightweight and comfortable in hot weather, with features such as front and back cape venting and wrinkle-resistant fabric. The Men's Tropical Plaid Short-Sleeve Shirt and Men's TropicVibe Shirt have a traditional fit, while the Men's Plaid Tropic Shirt and Sun Shield Shirt have a slightly fitted shape."
      ],
      "text/plain": [
       "<IPython.core.display.Markdown object>"
      ]
     },
     "metadata": {},
     "output_type": "display_data"
    }
   ],
   "source": [
    "display(Markdown(response))"
   ]
  },
  {
   "cell_type": "code",
   "execution_count": 41,
   "id": "650e4059-63e9-4463-bb25-8c7eb0ed5677",
   "metadata": {
    "tags": []
   },
   "outputs": [],
   "source": [
    "response = index.query(query, llm=llm)"
   ]
  },
  {
   "cell_type": "code",
   "execution_count": 43,
   "id": "e43fbbf5-1679-440a-91d4-63c6cca88d04",
   "metadata": {
    "tags": []
   },
   "outputs": [],
   "source": [
    "index = VectorstoreIndexCreator(\n",
    "    vectorstore_cls=DocArrayInMemorySearch,\n",
    "    embedding=embeddings,\n",
    ").from_loaders([loader])"
   ]
  },
  {
   "cell_type": "code",
   "execution_count": 44,
   "id": "72df9033-0f99-4795-8b50-44f92105d377",
   "metadata": {
    "tags": []
   },
   "outputs": [],
   "source": [
    "# Here we customize the index by using a different type of vector store. \n",
    "\n",
    "# stuffing - all data into the prompt as context. Cons: context length is limited."
   ]
  },
  {
   "cell_type": "code",
   "execution_count": 45,
   "id": "0f2e6ae7-2aa9-4a1b-a47e-6f2650126f4f",
   "metadata": {
    "tags": []
   },
   "outputs": [
    {
     "data": {
      "text/plain": [
       "'\\nother methods are:-\\n- map_reduce - get a number of responses, and then summarize all responses by having another call.\\n- refine - loop over the chunks, but pass the previous response to the new call.. sequential as a call depends on the previous\\n- map_rerank - single call for each document and ask to return a score,\\n'"
      ]
     },
     "execution_count": 45,
     "metadata": {},
     "output_type": "execute_result"
    }
   ],
   "source": [
    "\"\"\"\n",
    "other methods are:-\n",
    "- map_reduce - get a number of responses, and then summarize all responses by having another call.\n",
    "- refine - loop over the chunks, but pass the previous response to the new call.. sequential as a call depends on the previous\n",
    "- map_rerank - single call for each document and ask to return a score,\n",
    "\"\"\""
   ]
  },
  {
   "cell_type": "code",
   "execution_count": null,
   "id": "5dbd3aa9-a98d-4509-86f0-bf806c4f8cb5",
   "metadata": {},
   "outputs": [],
   "source": []
  }
 ],
 "metadata": {
  "kernelspec": {
   "display_name": "Python 3 (ipykernel)",
   "language": "python",
   "name": "python3"
  },
  "language_info": {
   "codemirror_mode": {
    "name": "ipython",
    "version": 3
   },
   "file_extension": ".py",
   "mimetype": "text/x-python",
   "name": "python",
   "nbconvert_exporter": "python",
   "pygments_lexer": "ipython3",
   "version": "3.10.6"
  }
 },
 "nbformat": 4,
 "nbformat_minor": 5
}
