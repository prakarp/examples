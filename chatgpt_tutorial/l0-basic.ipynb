{
 "cells": [
  {
   "cell_type": "code",
   "execution_count": null,
   "id": "1982fd1b-48df-4801-8fd9-0b5a94d664a4",
   "metadata": {
    "tags": []
   },
   "outputs": [],
   "source": [
    "import openai\n",
    "import os\n",
    "\n",
    "from dotenv import load_dotenv, find_dotenv\n",
    "# _ = load_dotenv(find_dotenv())\n",
    "_ = load_dotenv(\"./.env\")\n",
    "\n",
    "openai.api_key = os.getenv('OPENAI_API_KEY')\n",
    "# you can print the API key once to verify that the file is read\n",
    "# correctly, but ensure that you do not commit the notebook into \n",
    "# any public code repository. Unless you clear the outputs of this\n",
    "# cell or all cells, the notebooks retain the output, which means\n",
    "# that your API key will be part of the notebook read by anyone\n",
    "# that accesses your notebook. ## WARNING"
   ]
  },
  {
   "cell_type": "code",
   "execution_count": null,
   "id": "4f791b9a-4f4c-4dbc-9e5c-0879d6546693",
   "metadata": {},
   "outputs": [],
   "source": [
    "def get_completion(prompt, model=\"gpt-3.5-turbo\", temperature=0):\n",
    "    messages = [{\n",
    "        \"role\" : \"user\", \n",
    "        \"content\": prompt\n",
    "    }]\n",
    "    response = openai.ChatCompletion.create(\n",
    "        model = model,\n",
    "        messages = messages,\n",
    "        temperature = temperature,  # degree of randomness\n",
    "    )\n",
    "    return response.choices[0].message[\"content\"]\n",
    "\n",
    "def get_completion_from_messages(messages, model=\"gpt-3.5-turbo\", temperature=0):\n",
    "    response = openai.ChatCompletion.create(\n",
    "        model=model,\n",
    "        messages=messages,\n",
    "        temperature=temperature, # this is the degree of randomness of the model's output\n",
    "    )\n",
    "    print(str(response.choices[0].message))\n",
    "    return response.choices[0].message[\"content\"]\n"
   ]
  }
 ],
 "metadata": {
  "kernelspec": {
   "display_name": "Python 3 (ipykernel)",
   "language": "python",
   "name": "python3"
  },
  "language_info": {
   "codemirror_mode": {
    "name": "ipython",
    "version": 3
   },
   "file_extension": ".py",
   "mimetype": "text/x-python",
   "name": "python",
   "nbconvert_exporter": "python",
   "pygments_lexer": "ipython3",
   "version": "3.10.6"
  }
 },
 "nbformat": 4,
 "nbformat_minor": 5
}
